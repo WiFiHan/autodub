{
  "cells": [
    {
      "cell_type": "code",
      "execution_count": null,
      "metadata": {
        "colab": {
          "base_uri": "https://localhost:8080/"
        },
        "id": "MqCV3AqTPhtP",
        "outputId": "ba69b6bb-1e8f-4f56-ecf2-e842735a5bc4"
      },
      "outputs": [
        {
          "name": "stdout",
          "output_type": "stream",
          "text": [
            "Drive already mounted at /content/drive; to attempt to forcibly remount, call drive.mount(\"/content/drive\", force_remount=True).\n"
          ]
        }
      ],
      "source": [
        "from google.colab import drive\n",
        "drive.mount(\"/content/drive\")"
      ]
    },
    {
      "cell_type": "code",
      "execution_count": null,
      "metadata": {
        "colab": {
          "base_uri": "https://localhost:8080/"
        },
        "id": "n2w6Ky6e_N4c",
        "outputId": "1f2b99b6-8db6-432e-cfb0-acd6d316e7a9"
      },
      "outputs": [
        {
          "name": "stdout",
          "output_type": "stream",
          "text": [
            "/content/drive/MyDrive/DeepLearning\n"
          ]
        }
      ],
      "source": [
        "%cd /content/drive/MyDrive/DeepLearning"
      ]
    },
    {
      "cell_type": "code",
      "execution_count": null,
      "metadata": {
        "id": "HUFskH3cG-xs"
      },
      "outputs": [],
      "source": [
        "def convert_from_ms( milliseconds ):\n",
        "    seconds, milliseconds = divmod(milliseconds,1000)\n",
        "    minutes, seconds = divmod(seconds, 60)\n",
        "    hours, minutes = divmod(minutes, 60)\n",
        "    days, hours = divmod(hours, 24)\n",
        "    seconds = seconds + milliseconds/1000\n",
        "\n",
        "    # result = \"%d:%d:%d:%d\"%(hours,minutes,seconds,milliseconds)\n",
        "    result = \"%d:%d:%d\"%(minutes,seconds,milliseconds)\n",
        "    return result"
      ]
    },
    {
      "cell_type": "code",
      "execution_count": null,
      "metadata": {
        "colab": {
          "base_uri": "https://localhost:8080/"
        },
        "id": "jhuQI0ejboKp",
        "outputId": "eeba8d6e-80c7-4e17-f105-d78e2ad45f17"
      },
      "outputs": [
        {
          "name": "stdout",
          "output_type": "stream",
          "text": [
            "b'{\"language\": \"ko-KR\", \"completion\": \"sync\", \"callback\": null, \"userdata\": null, \"wordAlignment\": true, \"fullText\": true, \"forbiddens\": null, \"boostings\": null, \"diarization\": null}'\n",
            "{\"result\":\"COMPLETED\",\"message\":\"Succeeded\",\"token\":\"4ebbf4dc54024ec485cba1ec6619fd03\",\"version\":\"ncp_v2_v2.2.3-ncp-c164738-20231016_231023-b281d5fc_v4.1.5_ko_ncp_20221227_\",\"params\":{\"service\":\"ncp\",\"domain\":\"general\",\"lang\":\"ko\",\"completion\":\"sync\",\"diarization\":{\"enable\":true,\"speakerCountMin\":-1,\"speakerCountMax\":-1},\"boostings\":[],\"forbiddens\":\"\",\"wordAlignment\":true,\"fullText\":true,\"noiseFiltering\":true,\"resultToObs\":false,\"priority\":0,\"userdata\":{\"_ncp_DomainCode\":\"tobigs-23-2-conference-free\",\"_ncp_DomainId\":6304,\"_ncp_TaskId\":15042171,\"_ncp_TraceId\":\"9ab86efa3c1844e6bb88c86466b8affc\"}},\"progress\":100,\"keywords\":{},\"segments\":[{\"start\":840,\"end\":4340,\"text\":\"테스트 영상입니다. 너도 한마디만 해줘\",\"confidence\":0.9890458,\"diarization\":{\"label\":\"1\"},\"speaker\":{\"label\":\"1\",\"name\":\"A\",\"edited\":false},\"words\":[[1490,1920,\"테스트\"],[2010,2740,\"영상입니다.\"],[3270,3474,\"너도\"],[3474,3920,\"한마디만\"],[3920,4180,\"해줘\"]],\"textEdited\":\"테스트 영상입니다. 너도 한마디만 해줘\"},{\"start\":4340,\"end\":5140,\"text\":\"테스트입니다.\",\"confidence\":0.9055962,\"diarization\":{\"label\":\"2\"},\"speaker\":{\"label\":\"2\",\"name\":\"B\",\"edited\":false},\"words\":[[4450,5140,\"테스트입니다.\"]],\"textEdited\":\"테스트입니다.\"}],\"text\":\"테스트 영상입니다. 너도 한마디만 해줘 테스트입니다.\",\"confidence\":0.9675873,\"speakers\":[{\"label\":\"1\",\"name\":\"A\",\"edited\":false},{\"label\":\"2\",\"name\":\"B\",\"edited\":false}]}\n"
          ]
        }
      ],
      "source": [
        "#CLOVA api\n",
        "\n",
        "import requests\n",
        "import json\n",
        "\n",
        "class ClovaSpeechClient:\n",
        "  #You must get below two parameters by your own CLOVA account:\n",
        "  #Console -> Clova Speech -> Service Builder\n",
        "  #You might have to also use ObjectStorage\n",
        "    # Clova Speech invoke URL\n",
        "    invoke_url = ''\n",
        "    # Clova Speech secret key\n",
        "    secret = ''\n",
        "\n",
        "    def req_url(self, url, completion, callback=None, userdata=None, forbiddens=None, boostings=None, wordAlignment=True, fullText=True, diarization=None):\n",
        "        request_body = {\n",
        "            'url': url,\n",
        "            'language': 'ko-KR',\n",
        "            'completion': completion,\n",
        "            'callback': callback,\n",
        "            'userdata': userdata,\n",
        "            'wordAlignment': wordAlignment,\n",
        "            'fullText': fullText,\n",
        "            'forbiddens': forbiddens,\n",
        "            'boostings': boostings,\n",
        "            'diarization': diarization,\n",
        "        }\n",
        "        headers = {\n",
        "            'Accept': 'application/json;UTF-8',\n",
        "            'Content-Type': 'application/json;UTF-8',\n",
        "            'X-CLOVASPEECH-API-KEY': self.secret\n",
        "        }\n",
        "        return requests.post(headers=headers,\n",
        "                             url=self.invoke_url + '/recognizer/url',\n",
        "                             data=json.dumps(request_body).encode('UTF-8'))\n",
        "\n",
        "    def req_object_storage(self, data_key, completion, callback=None, userdata=None, forbiddens=None, boostings=None,\n",
        "                           wordAlignment=True, fullText=True, diarization=None):\n",
        "        request_body = {\n",
        "            'dataKey': data_key,\n",
        "            'language': 'ko-KR',\n",
        "            'completion': completion,\n",
        "            'callback': callback,\n",
        "            'userdata': userdata,\n",
        "            'wordAlignment': wordAlignment,\n",
        "            'fullText': fullText,\n",
        "            'forbiddens': forbiddens,\n",
        "            'boostings': boostings,\n",
        "            'diarization': diarization,\n",
        "        }\n",
        "        headers = {\n",
        "            'Accept': 'application/json;UTF-8',\n",
        "            'Content-Type': 'application/json;UTF-8',\n",
        "            'X-CLOVASPEECH-API-KEY': self.secret\n",
        "        }\n",
        "        return requests.post(headers=headers,\n",
        "                             url=self.invoke_url + '/recognizer/object-storage',\n",
        "                             data=json.dumps(request_body).encode('UTF-8'))\n",
        "\n",
        "    def req_upload(self, file, completion, callback=None, userdata=None, forbiddens=None, boostings=None,\n",
        "                   wordAlignment=True, fullText=True, diarization=None):\n",
        "        request_body = {\n",
        "            'language': 'ko-KR',\n",
        "            'completion': completion,\n",
        "            'callback': callback,\n",
        "            'userdata': userdata,\n",
        "            'wordAlignment': wordAlignment,\n",
        "            'fullText': fullText,\n",
        "            'forbiddens': forbiddens,\n",
        "            'boostings': boostings,\n",
        "            'diarization': diarization,\n",
        "        }\n",
        "        headers = {\n",
        "            'Accept': 'application/json;UTF-8',\n",
        "            'X-CLOVASPEECH-API-KEY': self.secret\n",
        "        }\n",
        "        print(json.dumps(request_body, ensure_ascii=False).encode('UTF-8'))\n",
        "        files = {\n",
        "            'media': open(file, 'rb'),\n",
        "            'params': (None, json.dumps(request_body, ensure_ascii=False).encode('UTF-8'), 'application/json')\n",
        "        }\n",
        "        response = requests.post(headers=headers, url=self.invoke_url + '/recognizer/upload', files=files)\n",
        "        return response\n",
        "\n",
        "\n",
        "if __name__ == '__main__':\n",
        "    #If you have direct mp3 url, use req_url function above\n",
        "    # res = ClovaSpeechClient().req_url(url='https://youtu.be/NhCoBVcXwtc?si=faZ_Qio2mRjRXirc', completion='sync')\n",
        "\n",
        "    #Elif you have mp3 file object storage(NAVER CLOUD SERVICE), use req_object_storage function above\n",
        "    # res = ClovaSpeechClient().req_object_storage(data_key='data/media.mp3', completion='sync')\n",
        "\n",
        "    #Elif you want to use local storage, use req_upload function above\n",
        "    res = ClovaSpeechClient().req_upload(file='data/media.mp4', completion='sync')\n",
        "    print(res.text)"
      ]
    },
    {
      "cell_type": "code",
      "execution_count": null,
      "metadata": {
        "colab": {
          "base_uri": "https://localhost:8080/"
        },
        "id": "pLIfS_vSFO3R",
        "outputId": "76d9ea68-eb1a-42f9-ba40-c87ae3292871"
      },
      "outputs": [
        {
          "name": "stdout",
          "output_type": "stream",
          "text": [
            "{'result': 'COMPLETED', 'message': 'Succeeded', 'token': '4ebbf4dc54024ec485cba1ec6619fd03', 'version': 'ncp_v2_v2.2.3-ncp-c164738-20231016_231023-b281d5fc_v4.1.5_ko_ncp_20221227_', 'params': {'service': 'ncp', 'domain': 'general', 'lang': 'ko', 'completion': 'sync', 'diarization': {'enable': True, 'speakerCountMin': -1, 'speakerCountMax': -1}, 'boostings': [], 'forbiddens': '', 'wordAlignment': True, 'fullText': True, 'noiseFiltering': True, 'resultToObs': False, 'priority': 0, 'userdata': {'_ncp_DomainCode': 'tobigs-23-2-conference-free', '_ncp_DomainId': 6304, '_ncp_TaskId': 15042171, '_ncp_TraceId': '9ab86efa3c1844e6bb88c86466b8affc'}}, 'progress': 100, 'keywords': {}, 'segments': [{'start': 840, 'end': 4340, 'text': '테스트 영상입니다. 너도 한마디만 해줘', 'confidence': 0.9890458, 'diarization': {'label': '1'}, 'speaker': {'label': '1', 'name': 'A', 'edited': False}, 'words': [[1490, 1920, '테스트'], [2010, 2740, '영상입니다.'], [3270, 3474, '너도'], [3474, 3920, '한마디만'], [3920, 4180, '해줘']], 'textEdited': '테스트 영상입니다. 너도 한마디만 해줘'}, {'start': 4340, 'end': 5140, 'text': '테스트입니다.', 'confidence': 0.9055962, 'diarization': {'label': '2'}, 'speaker': {'label': '2', 'name': 'B', 'edited': False}, 'words': [[4450, 5140, '테스트입니다.']], 'textEdited': '테스트입니다.'}], 'text': '테스트 영상입니다. 너도 한마디만 해줘 테스트입니다.', 'confidence': 0.9675873, 'speakers': [{'label': '1', 'name': 'A', 'edited': False}, {'label': '2', 'name': 'B', 'edited': False}]}\n"
          ]
        }
      ],
      "source": [
        "#json to dict\n",
        "\n",
        "import json\n",
        "\n",
        "result_json = res.text\n",
        "result_dict = json.loads(result_json)\n",
        "print(result_dict)"
      ]
    },
    {
      "cell_type": "code",
      "execution_count": null,
      "metadata": {
        "colab": {
          "base_uri": "https://localhost:8080/"
        },
        "id": "rrV_1dFgJoYI",
        "outputId": "b345afc5-d30d-4895-ffc3-9434099780b6"
      },
      "outputs": [
        {
          "name": "stdout",
          "output_type": "stream",
          "text": [
            "[ 0:0:840 ~ 0:4:340 ]\n",
            " A : 테스트 영상입니다. 너도 한마디만 해줘\n",
            "\n",
            "[ 0:4:340 ~ 0:5:140 ]\n",
            " B : 테스트입니다.\n",
            "\n"
          ]
        }
      ],
      "source": [
        "for seg in result_dict['segments']:\n",
        "    print(\"[\", convert_from_ms(seg['start']), \"~\", convert_from_ms(seg['end']), \"]\\n\", seg['speaker']['name'], \":\", seg['textEdited'] )\n",
        "    print()"
      ]
    },
    {
      "cell_type": "code",
      "execution_count": null,
      "metadata": {
        "colab": {
          "base_uri": "https://localhost:8080/"
        },
        "id": "4mB-GS9vWrBX",
        "outputId": "957e2cca-b7a4-4ec9-f5fe-0f12fb329c44"
      },
      "outputs": [
        {
          "name": "stdout",
          "output_type": "stream",
          "text": [
            "[((840, 4340), 'A', 'This is a test video. Please say something'), ((4340, 5140), 'B', \"It's a test.\")]\n"
          ]
        }
      ],
      "source": [
        "# papago 번역 API 사용 - 함수 활용\n",
        "import requests\n",
        "import json\n",
        "\n",
        "# translate 함수 선언\n",
        "def translate(text, source, target):\n",
        "    #GET CLIENT_ID, CLIENT_SECRET from \"NAVER DEVELOPER CENTER\", INSTEAD OF CLOVA\n",
        "    CLIENT_ID, CLIENT_SECRET = '', ''\n",
        "    #DO NOT CHANGE URL\n",
        "    url = 'https://openapi.naver.com/v1/papago/n2mt'\n",
        "    headers = {\n",
        "        'Content-Type': 'application/json',\n",
        "        'X-Naver-Client-Id': CLIENT_ID,\n",
        "        'X-Naver-Client-Secret': CLIENT_SECRET\n",
        "    }\n",
        "    data = {'source': source, 'target': target, 'text': text}\n",
        "    response = requests.post(url, json.dumps(data), headers=headers)\n",
        "\n",
        "    result = response.json()['message']['result']['translatedText']\n",
        "    return result\n",
        "\n",
        "\n",
        "# 번역할 문장 입력 후 함수에 전달\n",
        "# text = input()\n",
        "\n",
        "# parsed_data = LIST OF (TIMESTAMP, SPEAKER, TRANS)\n",
        "parsed_sequence = []\n",
        "for seg in result_dict['segments']:\n",
        "\n",
        "    timestamp = (seg['start'], seg['end'])\n",
        "    speaker = seg['speaker']['name']\n",
        "    trans = translate(seg['textEdited'] , 'ko', 'en')\n",
        "    parsed_data = (timestamp, speaker, trans)\n",
        "    parsed_sequence.append(parsed_data)\n",
        "\n",
        "print(parsed_sequence)\n",
        "\n"
      ]
    },
    {
      "cell_type": "code",
      "execution_count": null,
      "metadata": {
        "colab": {
          "base_uri": "https://localhost:8080/"
        },
        "id": "7Q7dp_wnI8-K",
        "outputId": "5d84104a-7f1d-453d-a712-b48e1f913e6b"
      },
      "outputs": [
        {
          "name": "stdout",
          "output_type": "stream",
          "text": [
            "Segment 0: 840 to 4340 saved as data/media.mp4_segment_0.mp4\n",
            "Segment 1: 4340 to 5140 saved as data/media.mp4_segment_1.mp4\n"
          ]
        }
      ],
      "source": [
        "\n",
        "# 입력 비디오 파일 경로\n",
        "\n",
        "import cv2\n",
        "\n",
        "def extract_subclip(input_video, time_segments):\n",
        "    cap = cv2.VideoCapture(input_video)\n",
        "\n",
        "    # Get the frames per second (fps) of the input video\n",
        "    fps = cap.get(cv2.CAP_PROP_FPS)\n",
        "\n",
        "    for i, (start_timestamp, end_timestamp) in enumerate(time_segments):\n",
        "        start_frame = int(start_timestamp * fps / 1000)\n",
        "        end_frame = int(end_timestamp * fps / 1000)\n",
        "\n",
        "        # Set the start frame position\n",
        "        cap.set(cv2.CAP_PROP_POS_FRAMES, start_frame)\n",
        "\n",
        "        # Read frames from start to end\n",
        "        frames = []\n",
        "        while cap.get(cv2.CAP_PROP_POS_FRAMES) <= end_frame:\n",
        "            ret, frame = cap.read()\n",
        "            if not ret:\n",
        "                break\n",
        "            frames.append(frame)\n",
        "\n",
        "        # Write frames to a new video file\n",
        "        output_file = f\"{input_video}_segment_{i}.mp4\"\n",
        "        out = cv2.VideoWriter(output_file, cv2.VideoWriter_fourcc(*'mp4v'), fps, (frames[0].shape[1], frames[0].shape[0]))\n",
        "        for frame in frames:\n",
        "            out.write(frame)\n",
        "        out.release()\n",
        "\n",
        "        print(f\"Segment {i}: {start_timestamp} to {end_timestamp} saved as {output_file}\")\n",
        "\n",
        "    cap.release()\n",
        "\n",
        "# Example usage:\n",
        "input_video = \"data/media.mp4\"\n",
        "time_segments = [parsed_data[0] for parsed_data in parsed_sequence]\n",
        "\n",
        "extract_subclip(input_video, time_segments)"
      ]
    },
    {
      "cell_type": "markdown",
      "metadata": {
        "id": "chfrcpRZFBMp"
      },
      "source": [
        "# **실험 1**\n",
        "\n",
        "뉴스 / 화자 1명\n",
        "\n",
        "https://youtu.be/NhCoBVcXwtc?si=faZ_Qio2mRjRXirc"
      ]
    },
    {
      "cell_type": "markdown",
      "metadata": {
        "id": "av07g5aEC7eP"
      },
      "source": [
        "**[공식 캡션]**\n",
        "\n",
        "\n",
        "전 세계 곳곳에서 기후 변화로 인한 자연재해가 잇따르는 가운데 지구 온난화가 목표치보다 빠르게 진행되고 있다는 경고음이 나왔습니다.\n",
        "\n",
        "앞으로 5년 안에 기후 변화의 마지노선이 깨질 확률이 크게 높아진 것으로 조사됐습니다.\n",
        "\n",
        "지난 2015년, 전 세계 197개 회원국은 파리기후변화협약을 맺었습니다.\n",
        "\n",
        "지구 온도의 상승 폭을 산업화 이전보다 1.5도 안으로 제한하도록 노력한다는 내용이었습니다.\n",
        "\n",
        "'지구 기온변화 1.5도'가 인류 생존의 위협을 막기 위한 최종 마지노선이라는 겁니다.\n",
        "\n",
        "하지만 이 목표가 깨지는 데는 그리 오랜 시간이 걸리지 않을 것으로 보입니다.\n",
        "\n",
        "세계 기상기구 WMO는 앞으로 5년 안에 지구 기온 상승 폭이 1.5도에 도달할 확률이 66%에 달한다고 밝혔는데요,\n",
        "\n",
        "함께 들어보겠습니다.\n",
        "\n",
        "[페테리 탈라스 / 세계기상기구 사무총장 : 앞으로 5년 동안 (지구 온도 상승 폭이) 1.5도를 넘어설 확률은 66%입니다. 라니냐 단계가 끝나면 향후 5년 동안 기록상 가장 따뜻한 해가 될 것이 거의 확실합니다.]\n",
        "\n",
        "향후 5년간 1.5도의 기온 상승이 일어날 확률은 20% 미만이라던 3년 전 예측이 급격히 뛰어오른 겁니다.\n",
        "\n",
        "이런 급격한 변화를 예상하는 건 지구 온난화 현상과 함께 동태평양 열대 해역 수온이 평년보다 0.5도 이상 올라가는 '엘니뇨 현상' 때문인데요,\n",
        "\n",
        "특히 올해는 수온이 1.5도에서 2도 이상 높아지는 '슈퍼 엘니뇨' 현상이 발생할 가능성이 큰 것으로 조사됐습니다.\n",
        "\n",
        "세계기상기구는 이 엘니뇨 현상이 기후변화와 결합해 전 세계 곳곳에 폭염과 홍수, 가뭄을 일으킬 거라 경고했는데요,\n",
        "\n",
        "인류에 닥칠 기후 재앙을 막기 위해 노력할 수 있는 시간은 지금도 빠르게 줄어들고 있습니다.\n"
      ]
    },
    {
      "cell_type": "markdown",
      "metadata": {
        "id": "exi4VMQRDQdm"
      },
      "source": [
        "**[CLOVA 결과]**\n",
        "\n",
        "[ 0:0:0 ~ 0:6:360 ]\n",
        " A : 지난 2015년 전 세계 197개 회원국은 파리 기후변화 협약을 맺었습니다.\n",
        "\n",
        "[ 0:6:360 ~ 0:20:200 ]\n",
        " A : 지구 온도의 상승폭을 산업화 이전보다 1.5도 안으로 제한하도록 노력한다는 내용이었습니다. 지구 기온 변화 1.5도가 인류 생존의 위협을 막기 위한 최종 마지노선이라는 겁니다.\n",
        "\n",
        "[ 0:20:219 ~ 0:29:299 ]\n",
        " A : 하지만 이 목표가 깨지는 데는 그리 오랜 시간이 걸리지 않을 것으로 보입니다. 세계기상기구 wmo는 앞으로 5년 안에 지구 기온 상\n",
        "\n",
        "[ 0:29:299 ~ 0:36:900 ]\n",
        " A : 폭이 1.5도에 도달할 확률이 66%에 달한다고 밝혔는데요. 함께 들어보겠습니다.\n",
        "\n",
        "[ 1:3:870 ~ 1:12:920 ]\n",
        " A : 향후 5년간 1.5도의 기온 상승이 일어날 확률은 20% 미만이라던 3년 전의 예측이 급격히 뛰어오른 겁니다.\n",
        "\n",
        "[ 1:12:920 ~ 1:23:480 ]\n",
        " A : 이런 급격한 변화를 예상하는 건 지구 온난화 현상과 함께 동태평양 열대 해역 수온이 평년보다 0.5도 이상 올라가는 엘리뇨 현상 때문인데요.\n",
        "\n",
        "[ 1:23:480 ~ 1:31:659 ]\n",
        " A : 특히 올해는 수온이 1.5도에서 2도 이상 높아지는 슈퍼 엘리뇨 현상이 발생할 가능성이 큰 것으로 조사됐습니다.\n",
        "\n",
        "[ 1:31:659 ~ 1:40:620 ]\n",
        " A : 세계기상기구는 이 엘리뇨 현상이 기후변화와 결합해 전 세계 곳곳에 폭염과 홍수 가뭄을 일으킬 것이라고 경고했는데요.\n",
        "\n",
        "[ 1:40:620 ~ 1:46:660 ]\n",
        " A : 인류에 닥칠 기후재앙을 막기 위해 노력할 수 있는 시간은 지금도 빠르게 줄어들고 있습니다."
      ]
    },
    {
      "cell_type": "markdown",
      "metadata": {
        "id": "VvghImhIDdLP"
      },
      "source": [
        "**[PAPAGO 결과]**\n",
        "\n",
        "[ 0:0:0 ~ 0:6:360 ]\n",
        " A : Back in 2015, 197 member states around the world signed the Paris Climate Change Convention.\n",
        "\n",
        "[ 0:6:360 ~ 0:20:200 ]\n",
        " A : It was about trying to limit the rise in global temperature to within 1.5 degrees than before industrialization. The global temperature change of 1.5 degrees is the final Maginot Line to prevent the threat of human survival.\n",
        "\n",
        "[ 0:20:219 ~ 0:29:299 ]\n",
        " A : But it won't take long for this goal to be broken. The World Meteorological Organization (WMO) is expected to raise global temperature in the next five years\n",
        "\n",
        "[ 0:29:299 ~ 0:36:900 ]\n",
        " A : There's a 66 percent chance that the width will reach 1.5 degrees. Let's listen to it together.\n",
        "\n",
        "[ 1:3:870 ~ 1:12:920 ]\n",
        " A : The prediction three years ago that the probability of a 1.5-degree temperature increase over the next five years was less than 20%.\n",
        "\n",
        "[ 1:12:920 ~ 1:23:480 ]\n",
        " A : This rapid change is expected due to global warming and the Eligno phenomenon, in which the temperature of tropical waters in the eastern Pacific Ocean rises more than 0.5 degrees above normal.\n",
        "\n",
        "[ 1:23:480 ~ 1:31:659 ]\n",
        " A : In particular, it has been investigated that this year, there is a high possibility of a super-elieno phenomenon, in which the water temperature rises from 1.5 degrees to more than 2 degrees.\n",
        "\n",
        "[ 1:31:659 ~ 1:40:620 ]\n",
        " A : The World Meteorological Organization warned that this Elinor phenomenon, combined with climate change, will cause heat waves and flood droughts around the world.\n",
        "\n",
        "[ 1:40:620 ~ 1:46:660 ]\n",
        " A : The time we can try to prevent climate catastrophe that is coming to humanity is still running out fast."
      ]
    },
    {
      "cell_type": "markdown",
      "metadata": {
        "id": "HVncKXItFetu"
      },
      "source": [
        "# **실험 2**\n",
        "\n",
        "영화 예고편 / 화자 다수 / 빠른 장면 전환 / 배경음악\n",
        "\n",
        "https://youtu.be/rGR0YOtscNQ?si=0WnlNV_ITJZUFFzP"
      ]
    },
    {
      "cell_type": "markdown",
      "metadata": {
        "id": "V7YQClE1FMqf"
      },
      "source": [
        "**[CLOVA 결과]**\n",
        "\n",
        "[ 0:0:350 ~ 0:6:350 ]\n",
        " A : 소년은 꿈이 있어야 하는 법이여 나의 꿈은 말이여\n",
        "\n",
        "[ 0:8:450 ~ 0:17:277 ]\n",
        " A : 안 맞고 사는데 해교를 안 댕기면 안 되냐 해교가 봐야 맨날 떠들고 차 맞는 게 일인데\n",
        "\n",
        "[ 0:17:277 ~ 0:25:515 ]\n",
        " B : 식으로 빼는지 이제 다 파악했단 말이에요. 근데 이렇게 이거를 가우리 전부 다 다 진시적이야 자\n",
        "\n",
        "[ 0:25:515 ~ 0:35:60 ]\n",
        " C : 아산 백호 어또 시방 그 그 놈이 우리 부여 원으로 전학을 온댜 십칠 대 일로 붙은 적 있는디 별명이 백호야 그 놈 이름이 뭔디\n",
        "\n",
        "[ 0:38:560 ~ 0:40:885 ]\n",
        " D : 아 선배 고 차녀\n",
        "\n",
        "[ 0:40:885 ~ 0:42:900 ]\n",
        " A : 제가 맞는 거 같은디\n",
        "\n",
        "[ 0:46:30 ~ 0:46:950 ]\n",
        " D : 뭘\n",
        "\n",
        "[ 0:46:950 ~ 0:49:0 ]\n",
        " C : 이 반사 진경 뭐야\n",
        "\n",
        "[ 0:49:900 ~ 0:52:907 ]\n",
        " B : 말로야 왜 이러는 겨\n",
        "\n",
        "[ 0:52:907 ~ 0:56:140 ]\n",
        " E : 백호 정병택 아 술 한 잔 하고 있네 진짜"
      ]
    },
    {
      "cell_type": "markdown",
      "metadata": {
        "id": "URCp4nDyFmBN"
      },
      "source": [
        "**[PAPAGO 결과]**\n",
        "\n",
        "[ 0:0:350 ~ 0:6:350 ]\n",
        " A : A boy should have a dream, my dream is a horse\n",
        "[ 0:8:450 ~ 0:17:277 ]\n",
        " A : It's hard not to get hit by a bridge. It's hard to get hit by a car\n",
        "[ 0:17:277 ~ 0:25:515 ]\n",
        " B : I know how to take it out. But we're all serious\n",
        "[ 0:25:515 ~ 0:35:60 ]\n",
        " C : Ahsan Baekho, Eodoh Sibang. That guy transferred to Buyeowon, and his nickname is Baekho, what's his name\n",
        "[ 0:38:560 ~ 0:40:885 ]\n",
        " D : Oh, senior and second daughter\n",
        "[ 0:40:885 ~ 0:42:900 ]\n",
        " A : I think I'm right\n",
        "[ 0:46:30 ~ 0:46:950 ]\n",
        " D : What\n",
        "[ 0:46:950 ~ 0:49:0 ]\n",
        " C : What's with this reflective mirror\n",
        "[ 0:49:900 ~ 0:52:907 ]\n",
        " B : What's wrong with you\n",
        "[ 0:52:907 ~ 0:56:140 ]\n",
        " E : Baekho, Jung Byeongtaek, you're drinking"
      ]
    },
    {
      "cell_type": "markdown",
      "metadata": {
        "id": "l9nAwAZfFy6b"
      },
      "source": [
        "# **실험 3**\n",
        "\n",
        "예능 / 화자 2명 / 배경음이나 효과음 있음\n",
        "\n",
        "https://www.youtube.com/watch?v=wpMTMMt9t9I&t=12s"
      ]
    },
    {
      "cell_type": "markdown",
      "metadata": {
        "id": "RgV2DQ7KF4u_"
      },
      "source": [
        "[ 0:0:0 ~ 0:9:7 ]\n",
        " A : 이게 촬영할 때도 약간 공대생 면모가 드러났다고 하는데 와이어 연기를 앞두고 병렬로 매야 한다 이런 얘기를 했다는데 이게 무슨 얘기예요.\n",
        "\n",
        "[ 0:9:7 ~ 0:17:400 ]\n",
        " B : 그게 전우치 찍을 때였는데 그때 매일매일 이제 와이어를 타던 나날의 연속이었어요.\n",
        "\n",
        "[ 0:17:400 ~ 0:28:405 ]\n",
        " B : 줄 하나 달고 가끔씩 막 아파트 3층 4층 높이 올라가면 너무 무섭잖아요. 무섭죠 무술 감독님한테 정동훈 감독님한테 물어보면 이거 줄 안 끊어져요. 이러면\n",
        "\n",
        "[ 0:28:405 ~ 0:36:690 ]\n",
        " B : 아 절대 안 끊어지지 이거 천 키로를 견뎌 천 키로를 이거 한 번도 줄이 끊어진 적이 없어요. 있지 옛날에 말이야\n",
        "\n",
        "[ 0:36:690 ~ 0:41:629 ]\n",
        " C : 그러니까 너무 걱정이 되잖아요. 지 되죠\n",
        "\n",
        "[ 0:41:629 ~ 0:54:385 ]\n",
        " B : 그래서 아 이게 줄을 그래도 우리 진짜 떨어져서 팔다리 부러질 정도면 그래 한 줄만 달아도 머리 깨질 정도면 진짜 두 개 달자 그러니까\n",
        "\n",
        "[ 0:54:385 ~ 0:57:637 ]\n",
        " B : 여기 이렇게 두 개 달았잖아 이런데 위에는 하나로 돼 있는데\n",
        "\n",
        "[ 0:57:637 ~ 0:59:137 ]\n",
        " C : 그래요\n",
        "\n",
        "[ 0:59:137 ~ 1:2:637 ]\n",
        " B : 여기 두 개 달면 뭐 하냐고 저기가 하난데\n",
        "\n",
        "[ 1:3:637 ~ 1:6:137 ]\n",
        " B : 여기만 병렬로 달면 뭐 하냐 저기\n",
        "\n",
        "[ 1:6:137 ~ 1:7:637 ]\n",
        " A : 병렬이어야 한다\n",
        "\n",
        "[ 1:7:637 ~ 1:9:645 ]\n",
        " B : 이걸 병렬로 달아야지\n",
        "\n",
        "[ 1:9:645 ~ 1:19:940 ]\n",
        " A : 여기 보니까 정동욱 무술 감독님께 의견을 드렸대요 에프는 엠에이니까 가속도가 지금 얼만데 천 킬로를 건진다 해도 이 정도 속도로 떨어지면은 끊어질 수 있다.\n",
        "\n",
        "[ 1:19:940 ~ 1:30:794 ]\n",
        " A : 그래서 감독님이 그럼 두 개 매 그래서 지금 맨 건 직렬인데 분산이 안 되니까 병렬로 해야 된다 그 역시 이게 공대생답게 그랬더니\n",
        "\n",
        "[ 1:30:794 ~ 1:33:390 ]\n",
        " A : 감독님이 뭐라고 그러셨어요.\n",
        "\n",
        "[ 1:34:30 ~ 1:38:515 ]\n",
        " B : 한 1초 2초의 정적이 있더니\n",
        "\n",
        "[ 1:38:515 ~ 1:41:25 ]\n",
        " C : 그냥 해\n",
        "\n",
        "[ 1:43:480 ~ 1:49:987 ]\n",
        " D : 요즘 말로 쌉소리 하지 말고 고 그냥 쌉소리 하지 말고 해 우리가 다 해본 거야 다\n",
        "\n",
        "[ 1:49:987 ~ 1:53:140 ]\n",
        " C : 맞아요. 맞아 딱 그런 표정이었어요.\n"
      ]
    },
    {
      "cell_type": "markdown",
      "metadata": {
        "id": "qwOpFeBMF6ZP"
      },
      "source": [
        "[ 0:0:0 ~ 0:9:7 ]\n",
        " A : I heard that you looked like an engineering student during the shoot. You have to tie it in parallel before the wire act I heard you said this. What are you talking about.\n",
        "\n",
        "[ 0:9:7 ~ 0:17:400 ]\n",
        " B : That was when I was shooting Jeon Woo-chi, and it was a series of days where I rode wires every day.\n",
        "\n",
        "[ 0:17:400 ~ 0:28:405 ]\n",
        " B : It's so scary when you put on a rope and go up to the 3rd and 4th floors of the apartment building. It's scary. If you ask the martial arts director and director Jeong Dong-hoon, the rope won't break\n",
        "\n",
        "[ 0:28:405 ~ 0:36:690 ]\n",
        " B : It's never cut off. The rope has never cut off. You know, a long time ago\n",
        "\n",
        "[ 0:36:690 ~ 0:41:629 ]\n",
        " C : That's why I'm so. You can\n",
        "\n",
        "[ 0:41:629 ~ 0:54:385 ]\n",
        " B : So, if we fall off and break our arms and legs, let's hang two strings if we break our heads\n",
        "\n",
        "[ 0:54:385 ~ 0:57:637 ]\n",
        " B : There are two here. There's one on the top\n",
        "\n",
        "\n",
        "[ 0:57:637 ~ 0:59:137 ]\n",
        " C : Yeah.\n",
        "\n",
        "[ 0:59:137 ~ 1:2:637 ]\n",
        " B : What's the point of putting two here? There's only one over there\n",
        "\n",
        "[ 1:3:637 ~ 1:6:137 ]\n",
        " B : What's the point of putting it in parallel\n",
        "\n",
        "[ 1:6:137 ~ 1:7:637 ]\n",
        " A : It should be parallel\n",
        "\n",
        "[ 1:7:637 ~ 1:9:645 ]\n",
        " B : You have to put this in parallel\n",
        "\n",
        "[ 1:9:645 ~ 1:19:940 ]\n",
        " A : Looking at it here, he gave his opinion to martial arts director Jeong Dong-wook. F is an M. So even if the acceleration is about 1,000 kilometers, it can be cut off if it drops at this speed.\n",
        "\n",
        "[ 1:19:940 ~ 1:30:794 ]\n",
        " A : So the director said, \"I'm going to buy two. The one I'm wearing is in series, but I can't separate them. So I have to do it in parallel.\" He was like an engineering student\n",
        "\n",
        "[ 1:30:794 ~ 1:33:390 ]\n",
        " A : The director said something.\n",
        "\n",
        "[ 1:34:30 ~ 1:38:515 ]\n",
        " B : There was a second and two seconds of silence\n",
        "\n",
        "[ 1:38:515 ~ 1:41:25 ]\n",
        " C : Just do it\n",
        "\n",
        "[ 1:43:480 ~ 1:49:987 ]\n",
        " D : Don't talk about it. Don't talk about it. We've done it all\n",
        "\n",
        "[ 1:49:987 ~ 1:53:140 ]\n",
        " C : That's right. That's right. That's exactly like that."
      ]
    },
    {
      "cell_type": "markdown",
      "metadata": {
        "id": "i59UP2_eF4nJ"
      },
      "source": []
    }
  ],
  "metadata": {
    "colab": {
      "collapsed_sections": [
        "chfrcpRZFBMp",
        "l9nAwAZfFy6b"
      ],
      "provenance": []
    },
    "kernelspec": {
      "display_name": "Python 3",
      "name": "python3"
    },
    "language_info": {
      "name": "python"
    }
  },
  "nbformat": 4,
  "nbformat_minor": 0
}
