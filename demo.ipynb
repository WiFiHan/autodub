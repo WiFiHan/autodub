{
 "cells": [
  {
   "cell_type": "code",
   "execution_count": 3,
   "metadata": {},
   "outputs": [],
   "source": [
    "import os\n",
    "import pandas as pd\n",
    "import autodub\n",
    "\n",
    "debug = True # 이미 생성된 script가 있을 경우 API요금 / 시간 절약을 위해 True로 설정\n",
    "\n",
    "video_path = \"./data/steve_jobs.mp4\"\n",
    "name = \"steve_jobs\"\n",
    "source_language = 'en'\n",
    "target_language = 'ja'\n",
    "\n",
    "os.makedirs(f'./results/{name}/')\n",
    "script_path = f'./results/{name}/script.csv'"
   ]
  },
  {
   "cell_type": "code",
   "execution_count": 4,
   "metadata": {},
   "outputs": [],
   "source": [
    "from autodub.stt import ClovaSTT\n",
    "\n",
    "if debug:\n",
    "    script = pd.read_csv(script_path)\n",
    "\n",
    "else:\n",
    "    stt = ClovaSTT()\n",
    "    script = stt.get_script_from_video(video_path, source_language)\n",
    "    script"
   ]
  },
  {
   "cell_type": "code",
   "execution_count": 5,
   "metadata": {},
   "outputs": [
    {
     "data": {
      "text/html": [
       "<div>\n",
       "<style scoped>\n",
       "    .dataframe tbody tr th:only-of-type {\n",
       "        vertical-align: middle;\n",
       "    }\n",
       "\n",
       "    .dataframe tbody tr th {\n",
       "        vertical-align: top;\n",
       "    }\n",
       "\n",
       "    .dataframe thead th {\n",
       "        text-align: right;\n",
       "    }\n",
       "</style>\n",
       "<table border=\"1\" class=\"dataframe\">\n",
       "  <thead>\n",
       "    <tr style=\"text-align: right;\">\n",
       "      <th></th>\n",
       "      <th>start</th>\n",
       "      <th>end</th>\n",
       "      <th>source</th>\n",
       "      <th>ja</th>\n",
       "    </tr>\n",
       "  </thead>\n",
       "  <tbody>\n",
       "    <tr>\n",
       "      <th>0</th>\n",
       "      <td>0</td>\n",
       "      <td>1145</td>\n",
       "      <td>America</td>\n",
       "      <td>アメリカ</td>\n",
       "    </tr>\n",
       "    <tr>\n",
       "      <th>1</th>\n",
       "      <td>1145</td>\n",
       "      <td>15510</td>\n",
       "      <td>to night if you feel the same energy that I do...</td>\n",
       "      <td>今夜、もしあなたが私と同じエネルギーを感じているのなら、もしあなたが私と同じ緊急性を感じてい...</td>\n",
       "    </tr>\n",
       "    <tr>\n",
       "      <th>2</th>\n",
       "      <td>15510</td>\n",
       "      <td>21820</td>\n",
       "      <td>that all across the country, from Florida to O...</td>\n",
       "      <td>それはフロリダからオレゴン、ワシントンからメインまで全国的に</td>\n",
       "    </tr>\n",
       "    <tr>\n",
       "      <th>3</th>\n",
       "      <td>21820</td>\n",
       "      <td>30035</td>\n",
       "      <td>the people will rise up in November and John K...</td>\n",
       "      <td>国民は11月に立ち上がり、ジョン·ケリーは大統領となり、ジョン·エドワーズは副大統領として宣...</td>\n",
       "    </tr>\n",
       "    <tr>\n",
       "      <th>4</th>\n",
       "      <td>30035</td>\n",
       "      <td>39370</td>\n",
       "      <td>and this country will reclaim its promise. And...</td>\n",
       "      <td>そして、この国は約束を取り戻すでしょう。 そして、この長い政治的暗闇の中から、明るい日が来る...</td>\n",
       "    </tr>\n",
       "  </tbody>\n",
       "</table>\n",
       "</div>"
      ],
      "text/plain": [
       "   start    end                                             source  \\\n",
       "0      0   1145                                            America   \n",
       "1   1145  15510  to night if you feel the same energy that I do...   \n",
       "2  15510  21820  that all across the country, from Florida to O...   \n",
       "3  21820  30035  the people will rise up in November and John K...   \n",
       "4  30035  39370  and this country will reclaim its promise. And...   \n",
       "\n",
       "                                                  ja  \n",
       "0                                               アメリカ  \n",
       "1  今夜、もしあなたが私と同じエネルギーを感じているのなら、もしあなたが私と同じ緊急性を感じてい...  \n",
       "2                     それはフロリダからオレゴン、ワシントンからメインまで全国的に  \n",
       "3  国民は11月に立ち上がり、ジョン·ケリーは大統領となり、ジョン·エドワーズは副大統領として宣...  \n",
       "4  そして、この国は約束を取り戻すでしょう。 そして、この長い政治的暗闇の中から、明るい日が来る...  "
      ]
     },
     "execution_count": 5,
     "metadata": {},
     "output_type": "execute_result"
    }
   ],
   "source": [
    "from autodub.translator import PapagoTranslator\n",
    "\n",
    "if not debug:\n",
    "    translator = PapagoTranslator()\n",
    "    script = translator.translate_script(script, source_language, target_language)\n",
    "    script.to_csv(script_path, index=False)\n",
    "script"
   ]
  },
  {
   "cell_type": "code",
   "execution_count": 6,
   "metadata": {},
   "outputs": [
    {
     "name": "stderr",
     "output_type": "stream",
     "text": [
      "Extracting clips..: 100%|██████████| 5/5 [00:10<00:00,  2.05s/it]\n"
     ]
    }
   ],
   "source": [
    "from autodub.utils import split_video_to_clips\n",
    "\n",
    "split_video_to_clips(video_path, script, name=name)"
   ]
  },
  {
   "cell_type": "code",
   "execution_count": 7,
   "metadata": {},
   "outputs": [
    {
     "name": "stderr",
     "output_type": "stream",
     "text": [
      "Generating prompts..: 100%|██████████| 5/5 [00:03<00:00,  1.43it/s]\n"
     ]
    }
   ],
   "source": [
    "from autodub.tts import prepare_prompts\n",
    "\n",
    "prepare_prompts(script, name)"
   ]
  },
  {
   "cell_type": "code",
   "execution_count": 10,
   "metadata": {},
   "outputs": [
    {
     "name": "stderr",
     "output_type": "stream",
     "text": [
      "Generating translated speech..: 100%|██████████| 5/5 [00:41<00:00,  8.21s/it]\n"
     ]
    }
   ],
   "source": [
    "from autodub.tts import generate_translated_speech\n",
    "\n",
    "generate_translated_speech(script, name, target_language='ja')"
   ]
  },
  {
   "cell_type": "code",
   "execution_count": 11,
   "metadata": {},
   "outputs": [
    {
     "name": "stderr",
     "output_type": "stream",
     "text": [
      "Merging clips..: 100%|██████████| 5/5 [00:01<00:00,  4.96it/s]\n"
     ]
    },
    {
     "name": "stdout",
     "output_type": "stream",
     "text": [
      "Saving results..\n"
     ]
    },
    {
     "name": "stderr",
     "output_type": "stream",
     "text": [
      "WARNING:py.warnings:/hdd1/aidml/sjwi/autodub/.venv/lib/python3.10/site-packages/moviepy/video/io/ffmpeg_reader.py:123: UserWarning: Warning: in file ./results/obama/video/source/segment_000000.mp4, 1226880 bytes wanted but 0 bytes read,at frame 35/36, at time 1.17/1.18 sec. Using the last valid frame instead.\n",
      "  warnings.warn(\"Warning: in file %s, \"%(self.filename)+\n",
      "\n",
      "WARNING:py.warnings:/hdd1/aidml/sjwi/autodub/.venv/lib/python3.10/site-packages/moviepy/video/io/ffmpeg_reader.py:123: UserWarning: Warning: in file ./results/obama/video/source/segment_000001.mp4, 1226880 bytes wanted but 0 bytes read,at frame 431/432, at time 14.37/14.39 sec. Using the last valid frame instead.\n",
      "  warnings.warn(\"Warning: in file %s, \"%(self.filename)+\n",
      "\n",
      "WARNING:py.warnings:/hdd1/aidml/sjwi/autodub/.venv/lib/python3.10/site-packages/moviepy/video/io/ffmpeg_reader.py:123: UserWarning: Warning: in file ./results/obama/video/source/segment_000002.mp4, 1226880 bytes wanted but 0 bytes read,at frame 190/191, at time 6.33/6.35 sec. Using the last valid frame instead.\n",
      "  warnings.warn(\"Warning: in file %s, \"%(self.filename)+\n",
      "\n",
      "WARNING:py.warnings:/hdd1/aidml/sjwi/autodub/.venv/lib/python3.10/site-packages/moviepy/video/io/ffmpeg_reader.py:123: UserWarning: Warning: in file ./results/obama/video/source/segment_000003.mp4, 1226880 bytes wanted but 0 bytes read,at frame 247/248, at time 8.23/8.26 sec. Using the last valid frame instead.\n",
      "  warnings.warn(\"Warning: in file %s, \"%(self.filename)+\n",
      "\n",
      "WARNING:py.warnings:/hdd1/aidml/sjwi/autodub/.venv/lib/python3.10/site-packages/moviepy/video/io/ffmpeg_reader.py:123: UserWarning: Warning: in file ./results/obama/video/source/segment_000004.mp4, 1226880 bytes wanted but 0 bytes read,at frame 338/339, at time 11.27/11.29 sec. Using the last valid frame instead.\n",
      "  warnings.warn(\"Warning: in file %s, \"%(self.filename)+\n",
      "\n"
     ]
    },
    {
     "name": "stdout",
     "output_type": "stream",
     "text": [
      " Successfully Saved - [ ./results/obama/video/ja//obama_ja.mp4 ]\n"
     ]
    }
   ],
   "source": [
    "from autodub.utils import merge_clips_to_video\n",
    "\n",
    "merge_clips_to_video(script, name, 'ja')"
   ]
  },
  {
   "cell_type": "code",
   "execution_count": null,
   "metadata": {},
   "outputs": [],
   "source": []
  }
 ],
 "metadata": {
  "kernelspec": {
   "display_name": ".venv",
   "language": "python",
   "name": "python3"
  },
  "language_info": {
   "codemirror_mode": {
    "name": "ipython",
    "version": 3
   },
   "file_extension": ".py",
   "mimetype": "text/x-python",
   "name": "python",
   "nbconvert_exporter": "python",
   "pygments_lexer": "ipython3",
   "version": "3.10.10"
  }
 },
 "nbformat": 4,
 "nbformat_minor": 2
}
