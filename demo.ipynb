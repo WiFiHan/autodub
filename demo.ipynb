{
 "cells": [
  {
   "cell_type": "code",
   "execution_count": 3,
   "metadata": {},
   "outputs": [],
   "source": [
    "import os\n",
    "import pandas as pd\n",
    "import autodub\n",
    "\n",
    "debug = False # 이미 생성된 script가 있을 경우 API요금 / 시간 절약을 위해 True로 설정\n",
    "\n",
    "video_path = \"./data/steve_jobs.mp4\"\n",
    "title = \"steve_jobs\"\n",
    "source_language = 'en'\n",
    "target_language = 'ja'\n",
    "script_path = f'./results/{title}/script.json'\n",
    "\n",
    "os.makedirs(f'./results/{title}/', exist_ok=True)"
   ]
  },
  {
   "cell_type": "code",
   "execution_count": 4,
   "metadata": {},
   "outputs": [],
   "source": [
    "from autodub.script import load_script_from_json\n",
    "from autodub.stt import ClovaSTT\n",
    "\n",
    "if debug:\n",
    "    script = load_script_from_json(script_path)\n",
    "\n",
    "else:\n",
    "    stt = ClovaSTT()\n",
    "    script = stt.make_script_from_video(video_path, source_language, title)\n",
    "    script"
   ]
  },
  {
   "cell_type": "code",
   "execution_count": 5,
   "metadata": {},
   "outputs": [
    {
     "data": {
      "text/plain": [
       "TITLE: \"steve_jobs\"\n",
       "DATA:\n",
       "   start    end                                             source  \\\n",
       "0     30   8275  My biological mother found out later that my m...   \n",
       "1   8275  18465  She refused to sign the final adoption papers....   \n",
       "2  18465  26725  This was the start in my life. And seventeen y...   \n",
       "3  26725  36625  but I naively chose a college that was almost ...   \n",
       "4  36625  46125  After six months I couldn't see the value in i...   \n",
       "5  46125  49226  And here I was spending all of the money my pa...   \n",
       "\n",
       "                                                  ja  \n",
       "0   実の母は後になって、母は大学を卒業したことがなく、父も高校を卒業したことがないことを知りました。  \n",
       "1  彼女は最終的な養子縁組書類に署名することを拒否した。 数カ月後、両親が大学に行くと約束したと...  \n",
       "2                 これが私の人生の始まりでした。 そして17年後、私は大学に行きました  \n",
       "3  しかし、私はスタンフォード大学とほぼ同じくらい高価な大学を選んだ。 そして、労働者階級の両親...  \n",
       "4  6ヶ月経っても、その価値は見当たりませんでした。 私は自分の人生で何をしたいのか、大学がどう...  \n",
       "5                           そこで私は両親が言ったお金を全部使ってしまった。  "
      ]
     },
     "execution_count": 5,
     "metadata": {},
     "output_type": "execute_result"
    }
   ],
   "source": [
    "from autodub.translator import PapagoTranslator\n",
    "\n",
    "if not debug:\n",
    "    translator = PapagoTranslator()\n",
    "    script = translator.translate_script(script, target_language)\n",
    "    script.to_json(script_path)\n",
    "script"
   ]
  },
  {
   "cell_type": "code",
   "execution_count": 6,
   "metadata": {},
   "outputs": [
    {
     "name": "stderr",
     "output_type": "stream",
     "text": [
      "Extracting clips..: 100%|██████████| 6/6 [00:09<00:00,  1.57s/it]\n"
     ]
    }
   ],
   "source": [
    "from autodub.utils import prepare_clips\n",
    "\n",
    "prepare_clips(script)"
   ]
  },
  {
   "cell_type": "code",
   "execution_count": 7,
   "metadata": {},
   "outputs": [
    {
     "name": "stderr",
     "output_type": "stream",
     "text": [
      "Generating prompts..: 100%|██████████| 6/6 [00:03<00:00,  1.79it/s]\n"
     ]
    }
   ],
   "source": [
    "from autodub.tts import prepare_prompts\n",
    "\n",
    "prepare_prompts(script)"
   ]
  },
  {
   "cell_type": "code",
   "execution_count": 9,
   "metadata": {},
   "outputs": [
    {
     "name": "stdout",
     "output_type": "stream",
     "text": [
      "Loading VALL-E from 'vallex-korean-checkpoint.pt'..\n"
     ]
    },
    {
     "name": "stderr",
     "output_type": "stream",
     "text": [
      "WARNING:py.warnings:/hdd1/aidml/sjwi/autodub/.venv/lib/python3.10/site-packages/torch/nn/utils/weight_norm.py:30: UserWarning: torch.nn.utils.weight_norm is deprecated in favor of torch.nn.utils.parametrizations.weight_norm.\n",
      "  warnings.warn(\"torch.nn.utils.weight_norm is deprecated in favor of torch.nn.utils.parametrizations.weight_norm.\")\n",
      "\n"
     ]
    },
    {
     "name": "stdout",
     "output_type": "stream",
     "text": [
      "Loading Complete.\n"
     ]
    },
    {
     "name": "stderr",
     "output_type": "stream",
     "text": [
      "Generating translated speech..: 100%|██████████| 6/6 [00:44<00:00,  7.34s/it]\n"
     ]
    }
   ],
   "source": [
    "from autodub import preload_models\n",
    "from autodub.tts import generate_translated_speech\n",
    "\n",
    "preload_models()\n",
    "generate_translated_speech(script, target_language='ja')"
   ]
  },
  {
   "cell_type": "code",
   "execution_count": 10,
   "metadata": {},
   "outputs": [
    {
     "name": "stderr",
     "output_type": "stream",
     "text": [
      "Merging clips..: 100%|██████████| 6/6 [00:01<00:00,  5.59it/s]\n"
     ]
    },
    {
     "name": "stdout",
     "output_type": "stream",
     "text": [
      "Saving results..\n"
     ]
    },
    {
     "name": "stderr",
     "output_type": "stream",
     "text": [
      "WARNING:py.warnings:/hdd1/aidml/sjwi/autodub/.venv/lib/python3.10/site-packages/moviepy/video/io/ffmpeg_reader.py:123: UserWarning: Warning: in file ./results/steve_jobs//video/source/segment_000001.mp4, 1226880 bytes wanted but 0 bytes read,at frame 306/308, at time 10.20/10.24 sec. Using the last valid frame instead.\n",
      "  warnings.warn(\"Warning: in file %s, \"%(self.filename)+\n",
      "\n",
      "WARNING:py.warnings:/hdd1/aidml/sjwi/autodub/.venv/lib/python3.10/site-packages/moviepy/video/io/ffmpeg_reader.py:123: UserWarning: Warning: in file ./results/steve_jobs//video/source/segment_000002.mp4, 1226880 bytes wanted but 0 bytes read,at frame 248/250, at time 8.27/8.31 sec. Using the last valid frame instead.\n",
      "  warnings.warn(\"Warning: in file %s, \"%(self.filename)+\n",
      "\n",
      "WARNING:py.warnings:/hdd1/aidml/sjwi/autodub/.venv/lib/python3.10/site-packages/moviepy/video/io/ffmpeg_reader.py:123: UserWarning: Warning: in file ./results/steve_jobs//video/source/segment_000003.mp4, 1226880 bytes wanted but 0 bytes read,at frame 297/298, at time 9.90/9.93 sec. Using the last valid frame instead.\n",
      "  warnings.warn(\"Warning: in file %s, \"%(self.filename)+\n",
      "\n",
      "WARNING:py.warnings:/hdd1/aidml/sjwi/autodub/.venv/lib/python3.10/site-packages/moviepy/video/io/ffmpeg_reader.py:123: UserWarning: Warning: in file ./results/steve_jobs//video/source/segment_000004.mp4, 1226880 bytes wanted but 0 bytes read,at frame 285/287, at time 9.50/9.54 sec. Using the last valid frame instead.\n",
      "  warnings.warn(\"Warning: in file %s, \"%(self.filename)+\n",
      "\n",
      "WARNING:py.warnings:/hdd1/aidml/sjwi/autodub/.venv/lib/python3.10/site-packages/moviepy/video/io/ffmpeg_reader.py:123: UserWarning: Warning: in file ./results/steve_jobs//video/source/segment_000004.mp4, 1226880 bytes wanted but 0 bytes read,at frame 286/287, at time 9.53/9.54 sec. Using the last valid frame instead.\n",
      "  warnings.warn(\"Warning: in file %s, \"%(self.filename)+\n",
      "\n",
      "WARNING:py.warnings:/hdd1/aidml/sjwi/autodub/.venv/lib/python3.10/site-packages/moviepy/video/io/ffmpeg_reader.py:123: UserWarning: Warning: in file ./results/steve_jobs//video/source/segment_000005.mp4, 1226880 bytes wanted but 0 bytes read,at frame 95/96, at time 3.17/3.19 sec. Using the last valid frame instead.\n",
      "  warnings.warn(\"Warning: in file %s, \"%(self.filename)+\n",
      "\n"
     ]
    },
    {
     "name": "stdout",
     "output_type": "stream",
     "text": [
      " Successfully Saved - [ ./results/steve_jobs/[ja]steve_jobs.mp4 ]\n"
     ]
    }
   ],
   "source": [
    "from autodub.utils import merge_clips_to_video\n",
    "\n",
    "merge_clips_to_video(script, 'ja')"
   ]
  },
  {
   "cell_type": "code",
   "execution_count": null,
   "metadata": {},
   "outputs": [],
   "source": []
  }
 ],
 "metadata": {
  "kernelspec": {
   "display_name": ".venv",
   "language": "python",
   "name": "python3"
  },
  "language_info": {
   "codemirror_mode": {
    "name": "ipython",
    "version": 3
   },
   "file_extension": ".py",
   "mimetype": "text/x-python",
   "name": "python",
   "nbconvert_exporter": "python",
   "pygments_lexer": "ipython3",
   "version": "3.10.10"
  }
 },
 "nbformat": 4,
 "nbformat_minor": 2
}
